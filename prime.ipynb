{
 "cells": [
  {
   "cell_type": "code",
   "execution_count": 26,
   "id": "ce00cddf-ee85-4e7e-8f11-76fc523da324",
   "metadata": {},
   "outputs": [
    {
     "name": "stdout",
     "output_type": "stream",
     "text": [
      "not prime\n"
     ]
    }
   ],
   "source": [
    "def prime(n):\n",
    "    '''if n<=1:\n",
    "        return False\n",
    "    c=n%100\n",
    "    elif c!=0 and c%5==0:\n",
    "        return \"not prime\"\n",
    "    elif c!=0 and c%=4==0:\n",
    "        return \"not prime\"\n",
    "    elif getSum(n)%3==0:\n",
    "        return \"not Prime\"'''\n",
    "     # the square root of n (rounded down to the nearest integer)\n",
    "    for i in range(2,int(n**0.5)+1):\n",
    "        if n%i==0 :\n",
    "            return \"not prime\"\n",
    "        \n",
    "    return \"prime\"\n",
    "\n",
    "\n",
    "        "
   ]
  },
  {
   "cell_type": "code",
   "execution_count": 25,
   "id": "61d01f1c-3fa9-45de-9561-4082abfd82e5",
   "metadata": {},
   "outputs": [
    {
     "name": "stdout",
     "output_type": "stream",
     "text": [
      "not prime\n"
     ]
    }
   ],
   "source": [
    "\n",
    "        "
   ]
  },
  {
   "cell_type": "code",
   "execution_count": 23,
   "id": "7d5f8559-85f9-443d-815f-6e05fbc9b261",
   "metadata": {},
   "outputs": [
    {
     "data": {
      "text/plain": [
       "'prime'"
      ]
     },
     "execution_count": 23,
     "metadata": {},
     "output_type": "execute_result"
    }
   ],
   "source": [
    "prime(17)"
   ]
  },
  {
   "cell_type": "code",
   "execution_count": null,
   "id": "8f2fd6e5-46d1-420f-8c6a-15becad7e2b7",
   "metadata": {},
   "outputs": [],
   "source": []
  }
 ],
 "metadata": {
  "kernelspec": {
   "display_name": "Python 3 (ipykernel)",
   "language": "python",
   "name": "python3"
  },
  "language_info": {
   "codemirror_mode": {
    "name": "ipython",
    "version": 3
   },
   "file_extension": ".py",
   "mimetype": "text/x-python",
   "name": "python",
   "nbconvert_exporter": "python",
   "pygments_lexer": "ipython3",
   "version": "3.10.4"
  }
 },
 "nbformat": 4,
 "nbformat_minor": 5
}
